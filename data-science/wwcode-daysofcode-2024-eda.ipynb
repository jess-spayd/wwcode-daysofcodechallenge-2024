{
 "cells": [
  {
   "cell_type": "code",
   "execution_count": 1,
   "id": "a91bff87",
   "metadata": {
    "_cell_guid": "b1076dfc-b9ad-4769-8c92-a6c4dae69d19",
    "_uuid": "8f2839f25d086af736a60e9eeb907d3b93b6e0e5",
    "execution": {
     "iopub.execute_input": "2024-01-25T01:59:53.540938Z",
     "iopub.status.busy": "2024-01-25T01:59:53.540493Z",
     "iopub.status.idle": "2024-01-25T01:59:54.085668Z",
     "shell.execute_reply": "2024-01-25T01:59:54.084085Z"
    },
    "papermill": {
     "duration": 0.558676,
     "end_time": "2024-01-25T01:59:54.088487",
     "exception": false,
     "start_time": "2024-01-25T01:59:53.529811",
     "status": "completed"
    },
    "tags": []
   },
   "outputs": [
    {
     "name": "stdout",
     "output_type": "stream",
     "text": [
      "/kaggle/input/annual-surface-temperature-change/Annual_Surface_Temperature_Change.csv\n"
     ]
    }
   ],
   "source": [
    "# This Python 3 environment comes with many helpful analytics libraries installed\n",
    "# It is defined by the kaggle/python Docker image: https://github.com/kaggle/docker-python\n",
    "# For example, here's several helpful packages to load\n",
    "\n",
    "import numpy as np # linear algebra\n",
    "import pandas as pd # data processing, CSV file I/O (e.g. pd.read_csv)\n",
    "\n",
    "# Input data files are available in the read-only \"../input/\" directory\n",
    "# For example, running this (by clicking run or pressing Shift+Enter) will list all files under the input directory\n",
    "\n",
    "import os\n",
    "for dirname, _, filenames in os.walk('/kaggle/input'):\n",
    "    for filename in filenames:\n",
    "        print(os.path.join(dirname, filename))\n",
    "\n",
    "# You can write up to 20GB to the current directory (/kaggle/working/) that gets preserved as output when you create a version using \"Save & Run All\" \n",
    "# You can also write temporary files to /kaggle/temp/, but they won't be saved outside of the current session"
   ]
  },
  {
   "cell_type": "markdown",
   "id": "ff63c1dd",
   "metadata": {
    "papermill": {
     "duration": 0.006038,
     "end_time": "2024-01-25T01:59:54.100941",
     "exception": false,
     "start_time": "2024-01-25T01:59:54.094903",
     "status": "completed"
    },
    "tags": []
   },
   "source": [
    "### Skill Level\n",
    "I selected the intermediate skill level because I want to increase my skills in Python, which I am less experienced with, while having advanced data analysis skills in R.\n",
    "\n",
    "### Dataset\n",
    "[Annual Surface Temperature Change](https://climatedata.imf.org/datasets/4063314923d74187be9596f10d034914/explore) dataset provided by the International Monetary Fund (IMF)\n",
    "> Annual estimates of mean surface temperature change measured with respect to a baseline climatology, corresponding to the period 1951-1980.\n"
   ]
  },
  {
   "cell_type": "code",
   "execution_count": 2,
   "id": "3a04cb86",
   "metadata": {
    "execution": {
     "iopub.execute_input": "2024-01-25T01:59:54.116678Z",
     "iopub.status.busy": "2024-01-25T01:59:54.116006Z",
     "iopub.status.idle": "2024-01-25T01:59:54.189785Z",
     "shell.execute_reply": "2024-01-25T01:59:54.188399Z"
    },
    "papermill": {
     "duration": 0.084754,
     "end_time": "2024-01-25T01:59:54.192661",
     "exception": false,
     "start_time": "2024-01-25T01:59:54.107907",
     "status": "completed"
    },
    "tags": []
   },
   "outputs": [
    {
     "data": {
      "text/html": [
       "<div>\n",
       "<style scoped>\n",
       "    .dataframe tbody tr th:only-of-type {\n",
       "        vertical-align: middle;\n",
       "    }\n",
       "\n",
       "    .dataframe tbody tr th {\n",
       "        vertical-align: top;\n",
       "    }\n",
       "\n",
       "    .dataframe thead th {\n",
       "        text-align: right;\n",
       "    }\n",
       "</style>\n",
       "<table border=\"1\" class=\"dataframe\">\n",
       "  <thead>\n",
       "    <tr style=\"text-align: right;\">\n",
       "      <th></th>\n",
       "      <th>ObjectId</th>\n",
       "      <th>Country</th>\n",
       "      <th>ISO2</th>\n",
       "      <th>ISO3</th>\n",
       "      <th>Indicator</th>\n",
       "      <th>Unit</th>\n",
       "      <th>Source</th>\n",
       "      <th>CTS_Code</th>\n",
       "      <th>CTS_Name</th>\n",
       "      <th>CTS_Full_Descriptor</th>\n",
       "      <th>...</th>\n",
       "      <th>F2013</th>\n",
       "      <th>F2014</th>\n",
       "      <th>F2015</th>\n",
       "      <th>F2016</th>\n",
       "      <th>F2017</th>\n",
       "      <th>F2018</th>\n",
       "      <th>F2019</th>\n",
       "      <th>F2020</th>\n",
       "      <th>F2021</th>\n",
       "      <th>F2022</th>\n",
       "    </tr>\n",
       "  </thead>\n",
       "  <tbody>\n",
       "    <tr>\n",
       "      <th>0</th>\n",
       "      <td>1</td>\n",
       "      <td>Afghanistan, Islamic Rep. of</td>\n",
       "      <td>AF</td>\n",
       "      <td>AFG</td>\n",
       "      <td>Temperature change with respect to a baseline ...</td>\n",
       "      <td>Degree Celsius</td>\n",
       "      <td>Food and Agriculture Organization of the Unite...</td>\n",
       "      <td>ECCS</td>\n",
       "      <td>Surface Temperature Change</td>\n",
       "      <td>Environment, Climate Change, Climate Indicator...</td>\n",
       "      <td>...</td>\n",
       "      <td>1.281</td>\n",
       "      <td>0.456</td>\n",
       "      <td>1.093</td>\n",
       "      <td>1.555</td>\n",
       "      <td>1.540</td>\n",
       "      <td>1.544</td>\n",
       "      <td>0.910</td>\n",
       "      <td>0.498</td>\n",
       "      <td>1.327</td>\n",
       "      <td>2.012</td>\n",
       "    </tr>\n",
       "    <tr>\n",
       "      <th>1</th>\n",
       "      <td>2</td>\n",
       "      <td>Albania</td>\n",
       "      <td>AL</td>\n",
       "      <td>ALB</td>\n",
       "      <td>Temperature change with respect to a baseline ...</td>\n",
       "      <td>Degree Celsius</td>\n",
       "      <td>Food and Agriculture Organization of the Unite...</td>\n",
       "      <td>ECCS</td>\n",
       "      <td>Surface Temperature Change</td>\n",
       "      <td>Environment, Climate Change, Climate Indicator...</td>\n",
       "      <td>...</td>\n",
       "      <td>1.333</td>\n",
       "      <td>1.198</td>\n",
       "      <td>1.569</td>\n",
       "      <td>1.464</td>\n",
       "      <td>1.121</td>\n",
       "      <td>2.028</td>\n",
       "      <td>1.675</td>\n",
       "      <td>1.498</td>\n",
       "      <td>1.536</td>\n",
       "      <td>1.518</td>\n",
       "    </tr>\n",
       "    <tr>\n",
       "      <th>2</th>\n",
       "      <td>3</td>\n",
       "      <td>Algeria</td>\n",
       "      <td>DZ</td>\n",
       "      <td>DZA</td>\n",
       "      <td>Temperature change with respect to a baseline ...</td>\n",
       "      <td>Degree Celsius</td>\n",
       "      <td>Food and Agriculture Organization of the Unite...</td>\n",
       "      <td>ECCS</td>\n",
       "      <td>Surface Temperature Change</td>\n",
       "      <td>Environment, Climate Change, Climate Indicator...</td>\n",
       "      <td>...</td>\n",
       "      <td>1.192</td>\n",
       "      <td>1.690</td>\n",
       "      <td>1.121</td>\n",
       "      <td>1.757</td>\n",
       "      <td>1.512</td>\n",
       "      <td>1.210</td>\n",
       "      <td>1.115</td>\n",
       "      <td>1.926</td>\n",
       "      <td>2.330</td>\n",
       "      <td>1.688</td>\n",
       "    </tr>\n",
       "    <tr>\n",
       "      <th>3</th>\n",
       "      <td>4</td>\n",
       "      <td>American Samoa</td>\n",
       "      <td>AS</td>\n",
       "      <td>ASM</td>\n",
       "      <td>Temperature change with respect to a baseline ...</td>\n",
       "      <td>Degree Celsius</td>\n",
       "      <td>Food and Agriculture Organization of the Unite...</td>\n",
       "      <td>ECCS</td>\n",
       "      <td>Surface Temperature Change</td>\n",
       "      <td>Environment, Climate Change, Climate Indicator...</td>\n",
       "      <td>...</td>\n",
       "      <td>1.257</td>\n",
       "      <td>1.170</td>\n",
       "      <td>1.009</td>\n",
       "      <td>1.539</td>\n",
       "      <td>1.435</td>\n",
       "      <td>1.189</td>\n",
       "      <td>1.539</td>\n",
       "      <td>1.430</td>\n",
       "      <td>1.268</td>\n",
       "      <td>1.256</td>\n",
       "    </tr>\n",
       "    <tr>\n",
       "      <th>4</th>\n",
       "      <td>5</td>\n",
       "      <td>Andorra, Principality of</td>\n",
       "      <td>AD</td>\n",
       "      <td>AND</td>\n",
       "      <td>Temperature change with respect to a baseline ...</td>\n",
       "      <td>Degree Celsius</td>\n",
       "      <td>Food and Agriculture Organization of the Unite...</td>\n",
       "      <td>ECCS</td>\n",
       "      <td>Surface Temperature Change</td>\n",
       "      <td>Environment, Climate Change, Climate Indicator...</td>\n",
       "      <td>...</td>\n",
       "      <td>0.831</td>\n",
       "      <td>1.946</td>\n",
       "      <td>1.690</td>\n",
       "      <td>1.990</td>\n",
       "      <td>1.925</td>\n",
       "      <td>1.919</td>\n",
       "      <td>1.964</td>\n",
       "      <td>2.562</td>\n",
       "      <td>1.533</td>\n",
       "      <td>3.243</td>\n",
       "    </tr>\n",
       "  </tbody>\n",
       "</table>\n",
       "<p>5 rows × 72 columns</p>\n",
       "</div>"
      ],
      "text/plain": [
       "   ObjectId                       Country ISO2 ISO3  \\\n",
       "0         1  Afghanistan, Islamic Rep. of   AF  AFG   \n",
       "1         2                       Albania   AL  ALB   \n",
       "2         3                       Algeria   DZ  DZA   \n",
       "3         4                American Samoa   AS  ASM   \n",
       "4         5      Andorra, Principality of   AD  AND   \n",
       "\n",
       "                                           Indicator            Unit  \\\n",
       "0  Temperature change with respect to a baseline ...  Degree Celsius   \n",
       "1  Temperature change with respect to a baseline ...  Degree Celsius   \n",
       "2  Temperature change with respect to a baseline ...  Degree Celsius   \n",
       "3  Temperature change with respect to a baseline ...  Degree Celsius   \n",
       "4  Temperature change with respect to a baseline ...  Degree Celsius   \n",
       "\n",
       "                                              Source CTS_Code  \\\n",
       "0  Food and Agriculture Organization of the Unite...     ECCS   \n",
       "1  Food and Agriculture Organization of the Unite...     ECCS   \n",
       "2  Food and Agriculture Organization of the Unite...     ECCS   \n",
       "3  Food and Agriculture Organization of the Unite...     ECCS   \n",
       "4  Food and Agriculture Organization of the Unite...     ECCS   \n",
       "\n",
       "                     CTS_Name  \\\n",
       "0  Surface Temperature Change   \n",
       "1  Surface Temperature Change   \n",
       "2  Surface Temperature Change   \n",
       "3  Surface Temperature Change   \n",
       "4  Surface Temperature Change   \n",
       "\n",
       "                                 CTS_Full_Descriptor  ...  F2013  F2014  \\\n",
       "0  Environment, Climate Change, Climate Indicator...  ...  1.281  0.456   \n",
       "1  Environment, Climate Change, Climate Indicator...  ...  1.333  1.198   \n",
       "2  Environment, Climate Change, Climate Indicator...  ...  1.192  1.690   \n",
       "3  Environment, Climate Change, Climate Indicator...  ...  1.257  1.170   \n",
       "4  Environment, Climate Change, Climate Indicator...  ...  0.831  1.946   \n",
       "\n",
       "   F2015  F2016  F2017  F2018  F2019  F2020  F2021  F2022  \n",
       "0  1.093  1.555  1.540  1.544  0.910  0.498  1.327  2.012  \n",
       "1  1.569  1.464  1.121  2.028  1.675  1.498  1.536  1.518  \n",
       "2  1.121  1.757  1.512  1.210  1.115  1.926  2.330  1.688  \n",
       "3  1.009  1.539  1.435  1.189  1.539  1.430  1.268  1.256  \n",
       "4  1.690  1.990  1.925  1.919  1.964  2.562  1.533  3.243  \n",
       "\n",
       "[5 rows x 72 columns]"
      ]
     },
     "execution_count": 2,
     "metadata": {},
     "output_type": "execute_result"
    }
   ],
   "source": [
    "# Import and preview dataset\n",
    "\n",
    "data = pd.read_csv('/kaggle/input/annual-surface-temperature-change/Annual_Surface_Temperature_Change.csv')\n",
    "data.head()"
   ]
  },
  {
   "cell_type": "markdown",
   "id": "8ffba063",
   "metadata": {
    "papermill": {
     "duration": 0.008595,
     "end_time": "2024-01-25T01:59:54.207955",
     "exception": false,
     "start_time": "2024-01-25T01:59:54.199360",
     "status": "completed"
    },
    "tags": []
   },
   "source": [
    "## Day 1: Data Cleaning and Transformation\n",
    "Handle missing values and perform initial data transformations."
   ]
  },
  {
   "cell_type": "code",
   "execution_count": 3,
   "id": "1557f116",
   "metadata": {
    "execution": {
     "iopub.execute_input": "2024-01-25T01:59:54.233697Z",
     "iopub.status.busy": "2024-01-25T01:59:54.233034Z",
     "iopub.status.idle": "2024-01-25T01:59:54.242205Z",
     "shell.execute_reply": "2024-01-25T01:59:54.240805Z"
    },
    "papermill": {
     "duration": 0.026415,
     "end_time": "2024-01-25T01:59:54.244837",
     "exception": false,
     "start_time": "2024-01-25T01:59:54.218422",
     "status": "completed"
    },
    "tags": []
   },
   "outputs": [
    {
     "data": {
      "text/plain": [
       "Index(['ObjectId', 'Country', 'ISO2', 'ISO3', 'Indicator', 'Unit', 'Source',\n",
       "       'CTS_Code', 'CTS_Name', 'CTS_Full_Descriptor', 'F1961', 'F1962',\n",
       "       'F1963', 'F1964', 'F1965', 'F1966', 'F1967', 'F1968', 'F1969', 'F1970',\n",
       "       'F1971', 'F1972', 'F1973', 'F1974', 'F1975', 'F1976', 'F1977', 'F1978',\n",
       "       'F1979', 'F1980', 'F1981', 'F1982', 'F1983', 'F1984', 'F1985', 'F1986',\n",
       "       'F1987', 'F1988', 'F1989', 'F1990', 'F1991', 'F1992', 'F1993', 'F1994',\n",
       "       'F1995', 'F1996', 'F1997', 'F1998', 'F1999', 'F2000', 'F2001', 'F2002',\n",
       "       'F2003', 'F2004', 'F2005', 'F2006', 'F2007', 'F2008', 'F2009', 'F2010',\n",
       "       'F2011', 'F2012', 'F2013', 'F2014', 'F2015', 'F2016', 'F2017', 'F2018',\n",
       "       'F2019', 'F2020', 'F2021', 'F2022'],\n",
       "      dtype='object')"
      ]
     },
     "execution_count": 3,
     "metadata": {},
     "output_type": "execute_result"
    }
   ],
   "source": [
    "data.columns"
   ]
  },
  {
   "cell_type": "code",
   "execution_count": 4,
   "id": "109cad2d",
   "metadata": {
    "execution": {
     "iopub.execute_input": "2024-01-25T01:59:54.260858Z",
     "iopub.status.busy": "2024-01-25T01:59:54.259813Z",
     "iopub.status.idle": "2024-01-25T01:59:54.273671Z",
     "shell.execute_reply": "2024-01-25T01:59:54.272344Z"
    },
    "papermill": {
     "duration": 0.024288,
     "end_time": "2024-01-25T01:59:54.276064",
     "exception": false,
     "start_time": "2024-01-25T01:59:54.251776",
     "status": "completed"
    },
    "tags": []
   },
   "outputs": [
    {
     "data": {
      "text/plain": [
       "array(['Degree Celsius'], dtype=object)"
      ]
     },
     "execution_count": 4,
     "metadata": {},
     "output_type": "execute_result"
    }
   ],
   "source": [
    "data.Unit.unique()"
   ]
  },
  {
   "cell_type": "code",
   "execution_count": 5,
   "id": "1c588744",
   "metadata": {
    "execution": {
     "iopub.execute_input": "2024-01-25T01:59:54.292118Z",
     "iopub.status.busy": "2024-01-25T01:59:54.291719Z",
     "iopub.status.idle": "2024-01-25T01:59:54.299724Z",
     "shell.execute_reply": "2024-01-25T01:59:54.298583Z"
    },
    "papermill": {
     "duration": 0.018982,
     "end_time": "2024-01-25T01:59:54.302283",
     "exception": false,
     "start_time": "2024-01-25T01:59:54.283301",
     "status": "completed"
    },
    "tags": []
   },
   "outputs": [
    {
     "data": {
      "text/plain": [
       "array(['Temperature change with respect to a baseline climatology, corresponding to the period 1951-1980'],\n",
       "      dtype=object)"
      ]
     },
     "execution_count": 5,
     "metadata": {},
     "output_type": "execute_result"
    }
   ],
   "source": [
    "data.Indicator.unique()"
   ]
  },
  {
   "cell_type": "code",
   "execution_count": 6,
   "id": "7e9133da",
   "metadata": {
    "execution": {
     "iopub.execute_input": "2024-01-25T01:59:54.318749Z",
     "iopub.status.busy": "2024-01-25T01:59:54.317616Z",
     "iopub.status.idle": "2024-01-25T01:59:54.326302Z",
     "shell.execute_reply": "2024-01-25T01:59:54.324988Z"
    },
    "papermill": {
     "duration": 0.019655,
     "end_time": "2024-01-25T01:59:54.328984",
     "exception": false,
     "start_time": "2024-01-25T01:59:54.309329",
     "status": "completed"
    },
    "tags": []
   },
   "outputs": [
    {
     "data": {
      "text/plain": [
       "array(['Food and Agriculture Organization of the United Nations (FAO). 2022. FAOSTAT Climate Change, Climate Indicators, Temperature change. License: CC BY-NC-SA 3.0 IGO. Extracted from:\\xa0https://www.fao.org/faostat/en/#data/ET. Accessed on 2023-03-28.'],\n",
       "      dtype=object)"
      ]
     },
     "execution_count": 6,
     "metadata": {},
     "output_type": "execute_result"
    }
   ],
   "source": [
    "data.Source.unique()"
   ]
  },
  {
   "cell_type": "code",
   "execution_count": 7,
   "id": "7a806ca1",
   "metadata": {
    "execution": {
     "iopub.execute_input": "2024-01-25T01:59:54.345008Z",
     "iopub.status.busy": "2024-01-25T01:59:54.344608Z",
     "iopub.status.idle": "2024-01-25T01:59:54.351829Z",
     "shell.execute_reply": "2024-01-25T01:59:54.350441Z"
    },
    "papermill": {
     "duration": 0.01818,
     "end_time": "2024-01-25T01:59:54.354282",
     "exception": false,
     "start_time": "2024-01-25T01:59:54.336102",
     "status": "completed"
    },
    "tags": []
   },
   "outputs": [
    {
     "data": {
      "text/plain": [
       "array(['ECCS'], dtype=object)"
      ]
     },
     "execution_count": 7,
     "metadata": {},
     "output_type": "execute_result"
    }
   ],
   "source": [
    "data.CTS_Code.unique()"
   ]
  },
  {
   "cell_type": "code",
   "execution_count": 8,
   "id": "de3ef3dc",
   "metadata": {
    "execution": {
     "iopub.execute_input": "2024-01-25T01:59:54.370970Z",
     "iopub.status.busy": "2024-01-25T01:59:54.370594Z",
     "iopub.status.idle": "2024-01-25T01:59:54.378758Z",
     "shell.execute_reply": "2024-01-25T01:59:54.377605Z"
    },
    "papermill": {
     "duration": 0.019358,
     "end_time": "2024-01-25T01:59:54.381225",
     "exception": false,
     "start_time": "2024-01-25T01:59:54.361867",
     "status": "completed"
    },
    "tags": []
   },
   "outputs": [
    {
     "data": {
      "text/plain": [
       "array(['Environment, Climate Change, Climate Indicators, Surface Temperature Change'],\n",
       "      dtype=object)"
      ]
     },
     "execution_count": 8,
     "metadata": {},
     "output_type": "execute_result"
    }
   ],
   "source": [
    "data.CTS_Full_Descriptor.unique()"
   ]
  },
  {
   "cell_type": "code",
   "execution_count": 9,
   "id": "1a2ea785",
   "metadata": {
    "execution": {
     "iopub.execute_input": "2024-01-25T01:59:54.399649Z",
     "iopub.status.busy": "2024-01-25T01:59:54.398736Z",
     "iopub.status.idle": "2024-01-25T01:59:54.406097Z",
     "shell.execute_reply": "2024-01-25T01:59:54.405202Z"
    },
    "papermill": {
     "duration": 0.018735,
     "end_time": "2024-01-25T01:59:54.408094",
     "exception": false,
     "start_time": "2024-01-25T01:59:54.389359",
     "status": "completed"
    },
    "tags": []
   },
   "outputs": [
    {
     "data": {
      "text/plain": [
       "array(['Surface Temperature Change'], dtype=object)"
      ]
     },
     "execution_count": 9,
     "metadata": {},
     "output_type": "execute_result"
    }
   ],
   "source": [
    "data.CTS_Name.unique()"
   ]
  },
  {
   "cell_type": "code",
   "execution_count": 10,
   "id": "4b098314",
   "metadata": {
    "execution": {
     "iopub.execute_input": "2024-01-25T01:59:54.425512Z",
     "iopub.status.busy": "2024-01-25T01:59:54.425083Z",
     "iopub.status.idle": "2024-01-25T01:59:54.462148Z",
     "shell.execute_reply": "2024-01-25T01:59:54.460975Z"
    },
    "papermill": {
     "duration": 0.049048,
     "end_time": "2024-01-25T01:59:54.464785",
     "exception": false,
     "start_time": "2024-01-25T01:59:54.415737",
     "status": "completed"
    },
    "tags": []
   },
   "outputs": [
    {
     "data": {
      "text/html": [
       "<div>\n",
       "<style scoped>\n",
       "    .dataframe tbody tr th:only-of-type {\n",
       "        vertical-align: middle;\n",
       "    }\n",
       "\n",
       "    .dataframe tbody tr th {\n",
       "        vertical-align: top;\n",
       "    }\n",
       "\n",
       "    .dataframe thead th {\n",
       "        text-align: right;\n",
       "    }\n",
       "</style>\n",
       "<table border=\"1\" class=\"dataframe\">\n",
       "  <thead>\n",
       "    <tr style=\"text-align: right;\">\n",
       "      <th></th>\n",
       "      <th>Country</th>\n",
       "      <th>F1961</th>\n",
       "      <th>F1962</th>\n",
       "      <th>F1963</th>\n",
       "      <th>F1964</th>\n",
       "      <th>F1965</th>\n",
       "      <th>F1966</th>\n",
       "      <th>F1967</th>\n",
       "      <th>F1968</th>\n",
       "      <th>F1969</th>\n",
       "      <th>...</th>\n",
       "      <th>F2013</th>\n",
       "      <th>F2014</th>\n",
       "      <th>F2015</th>\n",
       "      <th>F2016</th>\n",
       "      <th>F2017</th>\n",
       "      <th>F2018</th>\n",
       "      <th>F2019</th>\n",
       "      <th>F2020</th>\n",
       "      <th>F2021</th>\n",
       "      <th>F2022</th>\n",
       "    </tr>\n",
       "  </thead>\n",
       "  <tbody>\n",
       "    <tr>\n",
       "      <th>0</th>\n",
       "      <td>Afghanistan, Islamic Rep. of</td>\n",
       "      <td>-0.113</td>\n",
       "      <td>-0.164</td>\n",
       "      <td>0.847</td>\n",
       "      <td>-0.764</td>\n",
       "      <td>-0.244</td>\n",
       "      <td>0.226</td>\n",
       "      <td>-0.371</td>\n",
       "      <td>-0.423</td>\n",
       "      <td>-0.539</td>\n",
       "      <td>...</td>\n",
       "      <td>1.281</td>\n",
       "      <td>0.456</td>\n",
       "      <td>1.093</td>\n",
       "      <td>1.555</td>\n",
       "      <td>1.540</td>\n",
       "      <td>1.544</td>\n",
       "      <td>0.910</td>\n",
       "      <td>0.498</td>\n",
       "      <td>1.327</td>\n",
       "      <td>2.012</td>\n",
       "    </tr>\n",
       "    <tr>\n",
       "      <th>1</th>\n",
       "      <td>Albania</td>\n",
       "      <td>0.627</td>\n",
       "      <td>0.326</td>\n",
       "      <td>0.075</td>\n",
       "      <td>-0.166</td>\n",
       "      <td>-0.388</td>\n",
       "      <td>0.559</td>\n",
       "      <td>-0.074</td>\n",
       "      <td>0.081</td>\n",
       "      <td>-0.013</td>\n",
       "      <td>...</td>\n",
       "      <td>1.333</td>\n",
       "      <td>1.198</td>\n",
       "      <td>1.569</td>\n",
       "      <td>1.464</td>\n",
       "      <td>1.121</td>\n",
       "      <td>2.028</td>\n",
       "      <td>1.675</td>\n",
       "      <td>1.498</td>\n",
       "      <td>1.536</td>\n",
       "      <td>1.518</td>\n",
       "    </tr>\n",
       "    <tr>\n",
       "      <th>2</th>\n",
       "      <td>Algeria</td>\n",
       "      <td>0.164</td>\n",
       "      <td>0.114</td>\n",
       "      <td>0.077</td>\n",
       "      <td>0.250</td>\n",
       "      <td>-0.100</td>\n",
       "      <td>0.433</td>\n",
       "      <td>-0.026</td>\n",
       "      <td>-0.067</td>\n",
       "      <td>0.291</td>\n",
       "      <td>...</td>\n",
       "      <td>1.192</td>\n",
       "      <td>1.690</td>\n",
       "      <td>1.121</td>\n",
       "      <td>1.757</td>\n",
       "      <td>1.512</td>\n",
       "      <td>1.210</td>\n",
       "      <td>1.115</td>\n",
       "      <td>1.926</td>\n",
       "      <td>2.330</td>\n",
       "      <td>1.688</td>\n",
       "    </tr>\n",
       "    <tr>\n",
       "      <th>3</th>\n",
       "      <td>American Samoa</td>\n",
       "      <td>0.079</td>\n",
       "      <td>-0.042</td>\n",
       "      <td>0.169</td>\n",
       "      <td>-0.140</td>\n",
       "      <td>-0.562</td>\n",
       "      <td>0.181</td>\n",
       "      <td>-0.368</td>\n",
       "      <td>-0.187</td>\n",
       "      <td>0.132</td>\n",
       "      <td>...</td>\n",
       "      <td>1.257</td>\n",
       "      <td>1.170</td>\n",
       "      <td>1.009</td>\n",
       "      <td>1.539</td>\n",
       "      <td>1.435</td>\n",
       "      <td>1.189</td>\n",
       "      <td>1.539</td>\n",
       "      <td>1.430</td>\n",
       "      <td>1.268</td>\n",
       "      <td>1.256</td>\n",
       "    </tr>\n",
       "    <tr>\n",
       "      <th>4</th>\n",
       "      <td>Andorra, Principality of</td>\n",
       "      <td>0.736</td>\n",
       "      <td>0.112</td>\n",
       "      <td>-0.752</td>\n",
       "      <td>0.308</td>\n",
       "      <td>-0.490</td>\n",
       "      <td>0.415</td>\n",
       "      <td>0.637</td>\n",
       "      <td>0.018</td>\n",
       "      <td>-0.137</td>\n",
       "      <td>...</td>\n",
       "      <td>0.831</td>\n",
       "      <td>1.946</td>\n",
       "      <td>1.690</td>\n",
       "      <td>1.990</td>\n",
       "      <td>1.925</td>\n",
       "      <td>1.919</td>\n",
       "      <td>1.964</td>\n",
       "      <td>2.562</td>\n",
       "      <td>1.533</td>\n",
       "      <td>3.243</td>\n",
       "    </tr>\n",
       "  </tbody>\n",
       "</table>\n",
       "<p>5 rows × 63 columns</p>\n",
       "</div>"
      ],
      "text/plain": [
       "                        Country  F1961  F1962  F1963  F1964  F1965  F1966  \\\n",
       "0  Afghanistan, Islamic Rep. of -0.113 -0.164  0.847 -0.764 -0.244  0.226   \n",
       "1                       Albania  0.627  0.326  0.075 -0.166 -0.388  0.559   \n",
       "2                       Algeria  0.164  0.114  0.077  0.250 -0.100  0.433   \n",
       "3                American Samoa  0.079 -0.042  0.169 -0.140 -0.562  0.181   \n",
       "4      Andorra, Principality of  0.736  0.112 -0.752  0.308 -0.490  0.415   \n",
       "\n",
       "   F1967  F1968  F1969  ...  F2013  F2014  F2015  F2016  F2017  F2018  F2019  \\\n",
       "0 -0.371 -0.423 -0.539  ...  1.281  0.456  1.093  1.555  1.540  1.544  0.910   \n",
       "1 -0.074  0.081 -0.013  ...  1.333  1.198  1.569  1.464  1.121  2.028  1.675   \n",
       "2 -0.026 -0.067  0.291  ...  1.192  1.690  1.121  1.757  1.512  1.210  1.115   \n",
       "3 -0.368 -0.187  0.132  ...  1.257  1.170  1.009  1.539  1.435  1.189  1.539   \n",
       "4  0.637  0.018 -0.137  ...  0.831  1.946  1.690  1.990  1.925  1.919  1.964   \n",
       "\n",
       "   F2020  F2021  F2022  \n",
       "0  0.498  1.327  2.012  \n",
       "1  1.498  1.536  1.518  \n",
       "2  1.926  2.330  1.688  \n",
       "3  1.430  1.268  1.256  \n",
       "4  2.562  1.533  3.243  \n",
       "\n",
       "[5 rows x 63 columns]"
      ]
     },
     "execution_count": 10,
     "metadata": {},
     "output_type": "execute_result"
    }
   ],
   "source": [
    "# Since columns 5-10 are the same for every row, \n",
    "# I'm going to remove those columns to make the data easier to view.\n",
    "\n",
    "data_dropcols = data.drop(data.iloc[:, 2:10],axis = 1)\n",
    "data_dropcols = data_dropcols.drop(data_dropcols.columns[0], axis=1)\n",
    "data_dropcols.head()"
   ]
  },
  {
   "cell_type": "code",
   "execution_count": 11,
   "id": "1b1b5ae9",
   "metadata": {
    "execution": {
     "iopub.execute_input": "2024-01-25T01:59:54.483002Z",
     "iopub.status.busy": "2024-01-25T01:59:54.482567Z",
     "iopub.status.idle": "2024-01-25T01:59:54.491605Z",
     "shell.execute_reply": "2024-01-25T01:59:54.490385Z"
    },
    "papermill": {
     "duration": 0.021463,
     "end_time": "2024-01-25T01:59:54.494296",
     "exception": false,
     "start_time": "2024-01-25T01:59:54.472833",
     "status": "completed"
    },
    "tags": []
   },
   "outputs": [
    {
     "name": "stdout",
     "output_type": "stream",
     "text": [
      "(225, 63)\n",
      "(158, 63)\n"
     ]
    }
   ],
   "source": [
    "data_droppedna = data_dropcols.dropna()\n",
    "print(data_dropcols.shape)\n",
    "print(data_droppedna.shape)\n",
    "\n",
    "# Dropping rows with NAs removes 67 of 225 rows ~ 30%"
   ]
  },
  {
   "cell_type": "code",
   "execution_count": 12,
   "id": "4bec199d",
   "metadata": {
    "execution": {
     "iopub.execute_input": "2024-01-25T01:59:54.512757Z",
     "iopub.status.busy": "2024-01-25T01:59:54.512336Z",
     "iopub.status.idle": "2024-01-25T01:59:54.518804Z",
     "shell.execute_reply": "2024-01-25T01:59:54.517551Z"
    },
    "papermill": {
     "duration": 0.018682,
     "end_time": "2024-01-25T01:59:54.521468",
     "exception": false,
     "start_time": "2024-01-25T01:59:54.502786",
     "status": "completed"
    },
    "tags": []
   },
   "outputs": [],
   "source": [
    "# Replace NAs with zero\n",
    "\n",
    "data_replaced = data_dropcols.replace(to_replace = np.nan, value = 0)"
   ]
  },
  {
   "cell_type": "code",
   "execution_count": 13,
   "id": "3eb69e3e",
   "metadata": {
    "execution": {
     "iopub.execute_input": "2024-01-25T01:59:54.539833Z",
     "iopub.status.busy": "2024-01-25T01:59:54.539417Z",
     "iopub.status.idle": "2024-01-25T01:59:54.549608Z",
     "shell.execute_reply": "2024-01-25T01:59:54.548596Z"
    },
    "papermill": {
     "duration": 0.021853,
     "end_time": "2024-01-25T01:59:54.551898",
     "exception": false,
     "start_time": "2024-01-25T01:59:54.530045",
     "status": "completed"
    },
    "tags": []
   },
   "outputs": [
    {
     "data": {
      "text/plain": [
       "Index(['Country', '1961', '1962', '1963', '1964', '1965', '1966', '1967',\n",
       "       '1968', '1969', '1970', '1971', '1972', '1973', '1974', '1975', '1976',\n",
       "       '1977', '1978', '1979', '1980', '1981', '1982', '1983', '1984', '1985',\n",
       "       '1986', '1987', '1988', '1989', '1990', '1991', '1992', '1993', '1994',\n",
       "       '1995', '1996', '1997', '1998', '1999', '2000', '2001', '2002', '2003',\n",
       "       '2004', '2005', '2006', '2007', '2008', '2009', '2010', '2011', '2012',\n",
       "       '2013', '2014', '2015', '2016', '2017', '2018', '2019', '2020', '2021',\n",
       "       '2022'],\n",
       "      dtype='object')"
      ]
     },
     "execution_count": 13,
     "metadata": {},
     "output_type": "execute_result"
    }
   ],
   "source": [
    "# Rename columns\n",
    "data_replaced.columns = data_replaced.columns.str[1:]\n",
    "data_replaced = data_replaced.rename(columns={'ountry': 'Country'})\n",
    "data_replaced.columns"
   ]
  },
  {
   "cell_type": "markdown",
   "id": "0da5c34e",
   "metadata": {
    "papermill": {
     "duration": 0.007831,
     "end_time": "2024-01-25T01:59:54.567892",
     "exception": false,
     "start_time": "2024-01-25T01:59:54.560061",
     "status": "completed"
    },
    "tags": []
   },
   "source": [
    "## Day 2: Data Cleaning and Transformation\n",
    "Explore data normalization and scaling."
   ]
  }
 ],
 "metadata": {
  "kaggle": {
   "accelerator": "none",
   "dataSources": [
    {
     "datasetId": 4351136,
     "sourceId": 7474247,
     "sourceType": "datasetVersion"
    }
   ],
   "dockerImageVersionId": 30635,
   "isGpuEnabled": false,
   "isInternetEnabled": true,
   "language": "python",
   "sourceType": "notebook"
  },
  "kernelspec": {
   "display_name": "Python 3",
   "language": "python",
   "name": "python3"
  },
  "language_info": {
   "codemirror_mode": {
    "name": "ipython",
    "version": 3
   },
   "file_extension": ".py",
   "mimetype": "text/x-python",
   "name": "python",
   "nbconvert_exporter": "python",
   "pygments_lexer": "ipython3",
   "version": "3.10.12"
  },
  "papermill": {
   "default_parameters": {},
   "duration": 5.34265,
   "end_time": "2024-01-25T01:59:55.098117",
   "environment_variables": {},
   "exception": null,
   "input_path": "__notebook__.ipynb",
   "output_path": "__notebook__.ipynb",
   "parameters": {},
   "start_time": "2024-01-25T01:59:49.755467",
   "version": "2.4.0"
  }
 },
 "nbformat": 4,
 "nbformat_minor": 5
}
